{
 "cells": [
  {
   "cell_type": "code",
   "execution_count": 1,
   "metadata": {},
   "outputs": [],
   "source": [
    "import tensorflow as tf\n",
    "import pandas as pd\n",
    "import numpy as np\n",
    "import random\n",
    "from numpy.random import default_rng"
   ]
  },
  {
   "cell_type": "code",
   "execution_count": null,
   "metadata": {},
   "outputs": [],
   "source": [
    "x = tf.constant([[1., 4.], [5., 7.]])\n",
    "print(x)"
   ]
  },
  {
   "cell_type": "code",
   "execution_count": null,
   "metadata": {},
   "outputs": [],
   "source": [
    "res = tf.reduce_mean(x, axis=0)\n",
    "print(res)"
   ]
  },
  {
   "cell_type": "code",
   "execution_count": null,
   "metadata": {},
   "outputs": [],
   "source": [
    "randBinList = lambda n: [float(random.randint(0,1)) for b in range(1,n+1)]"
   ]
  },
  {
   "cell_type": "code",
   "execution_count": null,
   "metadata": {},
   "outputs": [],
   "source": [
    "rand_list = randBinList(77)\n",
    "np_array = np.array(rand_list)\n",
    "print(np_array)"
   ]
  },
  {
   "cell_type": "code",
   "execution_count": null,
   "metadata": {},
   "outputs": [],
   "source": [
    "def rand_bin_array(ones, length):\n",
    "    arr = np.zeros(length)\n",
    "    arr[:ones]  = 1\n",
    "    np.random.shuffle(arr)\n",
    "    return arr\n"
   ]
  },
  {
   "cell_type": "code",
   "execution_count": null,
   "metadata": {},
   "outputs": [],
   "source": [
    "def generate_valid_designs(split_lengths):\n",
    "    onh_list = []\n",
    "    for length in split_lengths:\n",
    "        add_element = rand_bin_array(ones=1, length=length)\n",
    "        add_element = np.expand_dims(add_element, axis=0)\n",
    "        onh_list.append(add_element)\n",
    "    return onh_list"
   ]
  },
  {
   "cell_type": "code",
   "execution_count": null,
   "metadata": {},
   "outputs": [],
   "source": [
    "split_lengths = [10, 10, 7, 10, 7, 11, 7, 4, 5, 6]"
   ]
  },
  {
   "cell_type": "code",
   "execution_count": null,
   "metadata": {},
   "outputs": [],
   "source": [
    "random_design = generate_valid_designs(split_lengths)\n",
    "print(random_design)"
   ]
  },
  {
   "cell_type": "code",
   "execution_count": null,
   "metadata": {},
   "outputs": [],
   "source": [
    "random_design_np = np.concatenate(random_design, axis=1).squeeze(axis=0)"
   ]
  },
  {
   "cell_type": "code",
   "execution_count": null,
   "metadata": {},
   "outputs": [],
   "source": [
    "class RandomDesigns():\n",
    "    def __init__(self, split_lenghts):\n",
    "        self.split_lenghts = split_lenghts\n",
    "        self.random_designs = None\n",
    "        \n",
    "    def rand_bin_array(self, length, ones=1):\n",
    "        arr = np.zeros(length)\n",
    "        arr[:ones]  = 1\n",
    "        np.random.shuffle(arr)\n",
    "        return arr\n",
    "\n",
    "    def generate_valid_designs(self, ):\n",
    "        onh_list = []\n",
    "        for length in self.split_lenghts:\n",
    "            add_element = self.rand_bin_array(ones=1, length=length)\n",
    "            add_element = np.expand_dims(add_element, axis=0)\n",
    "            onh_list.append(add_element)\n",
    "        random_design_np = np.concatenate(onh_list, axis=1).squeeze(axis=0)\n",
    "        return random_design_np"
   ]
  },
  {
   "cell_type": "code",
   "execution_count": null,
   "metadata": {},
   "outputs": [],
   "source": [
    "split_lengths = [10, 10, 7, 10, 7, 11, 7, 4, 5, 6]"
   ]
  },
  {
   "cell_type": "code",
   "execution_count": null,
   "metadata": {},
   "outputs": [],
   "source": [
    "design_obj = RandomDesigns(split_lengths)\n",
    "design_obj.random_designs = design_obj.generate_valid_designs()\n",
    "random_designs = design_obj.random_designs\n",
    "print(random_designs.shape)\n",
    "print(random_designs)"
   ]
  },
  {
   "cell_type": "code",
   "execution_count": null,
   "metadata": {},
   "outputs": [],
   "source": [
    "random_arr = np.random.rand(23,10)\n",
    "r = np.sum(np.square(random_arr[0] - random_arr[1]), axis=-1)\n",
    "print(r.shape)"
   ]
  },
  {
   "cell_type": "code",
   "execution_count": null,
   "metadata": {},
   "outputs": [],
   "source": [
    "A = tf.constant([[2, 20, 30, 3, 6], [8, 4, 10, 100, 1001]])\n",
    "t = tf.math.argmax(A, 0)\n",
    "print(t)"
   ]
  },
  {
   "cell_type": "code",
   "execution_count": null,
   "metadata": {},
   "outputs": [],
   "source": [
    "import numpy as np\n",
    "  \n",
    "# a is an array of integers.\n",
    "a = np.array([[1, 2, 3], [4, 5, 6]])\n",
    "  \n",
    "print(a)\n",
    "  \n",
    "print ('Indices of elements < 4')\n",
    "  \n",
    "b = np.where(a<4)\n",
    "print(b)\n",
    "  \n",
    "print(\"Elements which are < 4\")\n",
    "print(a[b])"
   ]
  },
  {
   "cell_type": "code",
   "execution_count": null,
   "metadata": {},
   "outputs": [],
   "source": [
    "x = np.array([[3, 1, 0], [0, 4, 0], [0, 6, 7]])\n",
    "print(x)\n",
    "z = np.nonzero(x)\n",
    "print(z)"
   ]
  },
  {
   "cell_type": "code",
   "execution_count": null,
   "metadata": {},
   "outputs": [],
   "source": [
    "rand_tensor = tf.random.uniform([256, 77])\n",
    "print(rand_tensor)\n",
    "ones = tf.ones([77,])\n",
    "print(ones.shape)\n",
    "sum = rand_tensor + ones\n",
    "print(sum)"
   ]
  },
  {
   "cell_type": "code",
   "execution_count": null,
   "metadata": {},
   "outputs": [],
   "source": [
    "int_firefly = 5\n",
    "def test(int_firefly):\n",
    "    int_firefly += 1\n",
    "test(int_firefly=int_firefly)\n",
    "print(int_firefly)"
   ]
  },
  {
   "cell_type": "code",
   "execution_count": null,
   "metadata": {},
   "outputs": [],
   "source": [
    "read_file = pd.read_excel(r'C:\\Users\\anton\\Downloads\\new_100rows_created_by_ibex.xlsx')\n",
    "read_file.to_csv(r'C:\\Users\\anton\\Desktop\\prime_workspace\\new_100rows_created_by_ibex.csv', index=None, header=True)"
   ]
  },
  {
   "cell_type": "code",
   "execution_count": 2,
   "metadata": {},
   "outputs": [
    {
     "name": "stdout",
     "output_type": "stream",
     "text": [
      "   param_1 param_2 param_3 param_4 param_5             param_6  \\\n",
      "50      38      21      43      78      20  0.7000000000000002   \n",
      "52      36      35      37      80      14                 0.5   \n",
      "76      43      32      41      71      18                 0.2   \n",
      "91      50      25      43      77      14                 0.4   \n",
      "32      43      30      45      79      19  0.6000000000000001   \n",
      "..     ...     ...     ...     ...     ...                 ...   \n",
      "12      37      29      38      72      10  0.7000000000000002   \n",
      "17      43      33      42      75      14                 0.2   \n",
      "29      49      30      45      71      13                 0.5   \n",
      "86      48      32      37      77      14                 0.2   \n",
      "25      35      31      41      79      10                 0.8   \n",
      "\n",
      "             accuracy  \n",
      "50  70.25462962962962  \n",
      "52  70.71759259259258  \n",
      "76  70.75617283950618  \n",
      "91   70.9104938271605  \n",
      "32  70.94907407407408  \n",
      "..                ...  \n",
      "12  73.22530864197532  \n",
      "17  73.26388888888889  \n",
      "29  73.30246913580247  \n",
      "86  73.49537037037038  \n",
      "25   73.6496913580247  \n",
      "\n",
      "[101 rows x 7 columns]\n"
     ]
    }
   ],
   "source": [
    "df = pd.read_csv(r'C:\\Users\\anton\\Desktop\\prime_workspace\\new_100rows_created_by_ibex.csv',\n",
    "            index_col=0,\n",
    "            names=[\"param_1\", \"param_2\", \"param_3\", \"param_4\", \"param_5\", \"param_6\", \"accuracy\"])\n",
    "\n",
    "# Drop first row by selecting all rows from first row onwards\n",
    "df = df.iloc[1: , :]\n",
    "# print(df)\n",
    "df_actual = df.drop_duplicates()\n",
    "df_sorted = df_actual.sort_values(by=[\"accuracy\"])\n",
    "print(df_sorted)"
   ]
  },
  {
   "cell_type": "code",
   "execution_count": 3,
   "metadata": {},
   "outputs": [],
   "source": [
    "df_train = df_sorted.iloc[: 80, :]"
   ]
  },
  {
   "cell_type": "code",
   "execution_count": 4,
   "metadata": {},
   "outputs": [],
   "source": [
    "df_valid = df_sorted.iloc[81: , :]"
   ]
  },
  {
   "cell_type": "code",
   "execution_count": 5,
   "metadata": {},
   "outputs": [],
   "source": [
    "train_data = df_train.to_dict('list')"
   ]
  },
  {
   "cell_type": "code",
   "execution_count": 6,
   "metadata": {},
   "outputs": [],
   "source": [
    "valid_data = df_valid.to_dict('list')"
   ]
  },
  {
   "cell_type": "code",
   "execution_count": 7,
   "metadata": {},
   "outputs": [],
   "source": [
    "generic_data = df_sorted.to_dict('list')"
   ]
  },
  {
   "cell_type": "code",
   "execution_count": 8,
   "metadata": {},
   "outputs": [],
   "source": [
    "for key in generic_data:\n",
    "    generic_data[key] = np.array(generic_data[key], dtype=np.float32) "
   ]
  },
  {
   "cell_type": "code",
   "execution_count": 9,
   "metadata": {},
   "outputs": [],
   "source": [
    "for key in train_data:\n",
    "    train_data[key] = np.array(train_data[key], dtype=np.float32)"
   ]
  },
  {
   "cell_type": "code",
   "execution_count": 10,
   "metadata": {},
   "outputs": [],
   "source": [
    "for key in valid_data:\n",
    "    valid_data[key] = np.array(valid_data[key], dtype=np.float32)"
   ]
  },
  {
   "cell_type": "code",
   "execution_count": 11,
   "metadata": {},
   "outputs": [
    {
     "name": "stdout",
     "output_type": "stream",
     "text": [
      "param_1\n",
      "param_2\n",
      "param_3\n",
      "param_4\n",
      "param_5\n",
      "param_6\n",
      "accuracy\n"
     ]
    }
   ],
   "source": [
    "for key in generic_data:\n",
    "    print(key)"
   ]
  },
  {
   "cell_type": "code",
   "execution_count": 12,
   "metadata": {},
   "outputs": [
    {
     "data": {
      "text/plain": [
       "array([70.25463 , 70.71759 , 70.75617 , 70.91049 , 70.94907 , 70.987656,\n",
       "       70.987656, 70.987656, 70.987656, 71.02624 , 71.06481 , 71.06481 ,\n",
       "       71.141975, 71.25771 , 71.25771 , 71.33488 , 71.33488 , 71.37346 ,\n",
       "       71.37346 , 71.37346 , 71.37346 , 71.41204 , 71.450615, 71.450615,\n",
       "       71.450615, 71.4892  , 71.4892  , 71.56636 , 71.56636 , 71.56636 ,\n",
       "       71.604935, 71.604935, 71.604935, 71.64352 , 71.64352 , 71.64352 ,\n",
       "       71.6821  , 71.6821  , 71.6821  , 71.72068 , 71.75926 , 71.79784 ,\n",
       "       71.83642 , 71.875   , 71.875   , 71.875   , 71.875   , 71.91358 ,\n",
       "       71.95216 , 71.95216 , 71.99074 , 72.02932 , 72.02932 , 72.0679  ,\n",
       "       72.0679  , 72.145065, 72.145065, 72.145065, 72.145065, 72.18364 ,\n",
       "       72.18364 , 72.18364 , 72.22222 , 72.22222 , 72.2608  , 72.2608  ,\n",
       "       72.299385, 72.299385, 72.299385, 72.33796 , 72.33796 , 72.33796 ,\n",
       "       72.453705, 72.453705, 72.49229 , 72.49229 , 72.53086 , 72.53086 ,\n",
       "       72.56944 , 72.56944 , 72.64661 , 72.64661 , 72.68519 , 72.72376 ,\n",
       "       72.72376 , 72.762344, 72.762344, 72.83951 , 72.99383 , 73.14815 ,\n",
       "       73.14815 , 73.18673 , 73.18673 , 73.18673 , 73.18673 , 73.22531 ,\n",
       "       73.22531 , 73.263885, 73.30247 , 73.49537 , 73.64969 ],\n",
       "      dtype=float32)"
      ]
     },
     "execution_count": 12,
     "metadata": {},
     "output_type": "execute_result"
    }
   ],
   "source": [
    "generic_data['accuracy']"
   ]
  },
  {
   "cell_type": "code",
   "execution_count": 13,
   "metadata": {},
   "outputs": [
    {
     "name": "stdout",
     "output_type": "stream",
     "text": [
      "[array([35., 36., 37., 38., 39., 40., 41., 42., 43., 44., 45., 46., 47.,\n",
      "       48., 49., 50.], dtype=float32), array([20., 21., 22., 23., 24., 25., 26., 27., 28., 29., 30., 31., 32.,\n",
      "       33., 34., 35.], dtype=float32), array([35., 36., 37., 38., 39., 40., 41., 42., 43., 44., 45.],\n",
      "      dtype=float32), array([70., 71., 72., 73., 74., 75., 76., 77., 78., 79., 80.],\n",
      "      dtype=float32), array([10., 11., 12., 13., 14., 15., 16., 17., 18., 19., 20.],\n",
      "      dtype=float32), array([0.2, 0.3, 0.4, 0.5, 0.6, 0.7, 0.8], dtype=float32)]\n"
     ]
    }
   ],
   "source": [
    "unique_list = []\n",
    "for key in generic_data:\n",
    "    if key != 'accuracy':\n",
    "        unique_list.append(np.unique(train_data[f'{key}']))\n",
    "print(unique_list)"
   ]
  },
  {
   "cell_type": "code",
   "execution_count": 14,
   "metadata": {},
   "outputs": [
    {
     "name": "stdout",
     "output_type": "stream",
     "text": [
      "80\n"
     ]
    }
   ],
   "source": [
    "print(len(train_data['accuracy']))"
   ]
  },
  {
   "cell_type": "code",
   "execution_count": 15,
   "metadata": {},
   "outputs": [
    {
     "name": "stdout",
     "output_type": "stream",
     "text": [
      "20\n"
     ]
    }
   ],
   "source": [
    "print(len(valid_data['accuracy']))"
   ]
  },
  {
   "cell_type": "code",
   "execution_count": 16,
   "metadata": {},
   "outputs": [
    {
     "name": "stdout",
     "output_type": "stream",
     "text": [
      "16\n",
      "16\n",
      "11\n",
      "11\n",
      "11\n",
      "7\n"
     ]
    }
   ],
   "source": [
    "for arr in unique_list:\n",
    "    print(len(arr))"
   ]
  },
  {
   "cell_type": "code",
   "execution_count": 17,
   "metadata": {},
   "outputs": [
    {
     "name": "stdout",
     "output_type": "stream",
     "text": [
      "[70.25463  70.71759  70.75617  70.91049  70.94907  70.987656 70.987656\n",
      " 70.987656 70.987656 71.02624  71.06481  71.06481  71.141975 71.25771\n",
      " 71.25771  71.33488  71.33488  71.37346  71.37346  71.37346  71.37346\n",
      " 71.41204  71.450615 71.450615 71.450615 71.4892   71.4892   71.56636\n",
      " 71.56636  71.56636  71.604935 71.604935 71.604935 71.64352  71.64352\n",
      " 71.64352  71.6821   71.6821   71.6821   71.72068  71.75926  71.79784\n",
      " 71.83642  71.875    71.875    71.875    71.875    71.91358  71.95216\n",
      " 71.95216  71.99074  72.02932  72.02932  72.0679   72.0679   72.145065\n",
      " 72.145065 72.145065 72.145065 72.18364  72.18364  72.18364  72.22222\n",
      " 72.22222  72.2608   72.2608   72.299385 72.299385 72.299385 72.33796\n",
      " 72.33796  72.33796  72.453705 72.453705 72.49229  72.49229  72.53086\n",
      " 72.53086  72.56944  72.56944 ]\n"
     ]
    }
   ],
   "source": [
    "print(train_data['accuracy'])"
   ]
  },
  {
   "cell_type": "code",
   "execution_count": 18,
   "metadata": {},
   "outputs": [
    {
     "name": "stdout",
     "output_type": "stream",
     "text": [
      "[72.64661  72.68519  72.72376  72.72376  72.762344 72.762344 72.83951\n",
      " 72.99383  73.14815  73.14815  73.18673  73.18673  73.18673  73.18673\n",
      " 73.22531  73.22531  73.263885 73.30247  73.49537  73.64969 ]\n"
     ]
    }
   ],
   "source": [
    "print(valid_data['accuracy'])"
   ]
  },
  {
   "cell_type": "code",
   "execution_count": 20,
   "metadata": {},
   "outputs": [
    {
     "name": "stdout",
     "output_type": "stream",
     "text": [
      "<class 'numpy.ndarray'>\n"
     ]
    }
   ],
   "source": [
    "print(type(valid_data['accuracy']))"
   ]
  },
  {
   "cell_type": "code",
   "execution_count": null,
   "metadata": {},
   "outputs": [],
   "source": [
    "a = [0,1,2,3]\n",
    "a_arr = np.array(a)\n",
    "a_ident = a_arr.copy()\n",
    "a_ident[0] = 1\n",
    "a_arr[0] = a_arr[2] + 10\n",
    "print(a_ident, a_arr)"
   ]
  },
  {
   "cell_type": "code",
   "execution_count": null,
   "metadata": {},
   "outputs": [],
   "source": [
    "value = 10\n",
    "intensity = np.array([1,2,3])\n",
    "intensity[1] = value\n",
    "print(intensity, value)\n",
    "intensity[1] = 15\n",
    "print(intensity, value)"
   ]
  }
 ],
 "metadata": {
  "interpreter": {
   "hash": "0bf33d918c62bace27e03d52745da65e869ba2b948bc8df7a2311d2331cc78aa"
  },
  "kernelspec": {
   "display_name": "Python 3.9.12 ('my-env')",
   "language": "python",
   "name": "python3"
  },
  "language_info": {
   "codemirror_mode": {
    "name": "ipython",
    "version": 3
   },
   "file_extension": ".py",
   "mimetype": "text/x-python",
   "name": "python",
   "nbconvert_exporter": "python",
   "pygments_lexer": "ipython3",
   "version": "3.9.12"
  },
  "orig_nbformat": 4
 },
 "nbformat": 4,
 "nbformat_minor": 2
}
